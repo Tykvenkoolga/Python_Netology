{
 "cells": [
  {
   "cell_type": "code",
   "execution_count": null,
   "metadata": {},
   "outputs": [],
   "source": [
    "from datetime import datetime"
   ]
  },
  {
   "cell_type": "code",
   "execution_count": null,
   "metadata": {},
   "outputs": [],
   "source": [
    "from datetime import timedelta"
   ]
  },
  {
   "cell_type": "code",
   "execution_count": null,
   "metadata": {},
   "outputs": [],
   "source": [
    "from datetime import date \n",
    "from dateutil.relativedelta import relativedelta, MO"
   ]
  },
  {
   "cell_type": "code",
   "execution_count": null,
   "metadata": {},
   "outputs": [],
   "source": [
    "def data_range (current_dt): #задание 1 \n",
    "   spisok_dat = []\n",
    "   start_date = '2019-03-21'\n",
    "   end_date = '2019-03-28'\n",
    "   start_date_dt = datetime.strptime(start_date, '%Y-%m-%d')\n",
    "   end_date_dt = datetime.strptime(end_date, '%Y-%m-%d')\n",
    "   current_dt = start_date_dt\n",
    "\n",
    "   while current_dt <= end_date_dt:\n",
    "       spisok_dat.append(current_dt.strftime('%Y-%m-%d'))\n",
    "       current_dt += timedelta(days=1)\n",
    "   return spisok_dat"
   ]
  },
  {
   "cell_type": "code",
   "execution_count": null,
   "metadata": {},
   "outputs": [],
   "source": [
    "def data_range (start_date, end_date): #задание 2 \n",
    "   spisok_dat = []\n",
    "         try:\n",
    "               start_date_dt = datetime.strptime(start_date, '%Y-%m-%d')\n",
    "               end_date_dt = datetime.strptime(end_date, '%Y-%m-%d')\n",
    "        except:\n",
    "                return []\n",
    "            if start_date > end_date:\n",
    "                return []\n",
    "current_dt = start_date_dt\n",
    "while current_dt <= end_date_dt:\n",
    "       spisok_dat.append(current_dt.strftime('%Y-%m-%d'))\n",
    "       current_dt += timedelta(days=1)\n",
    "return spisok_dat\n",
    "print (data_range('2019-03-21','2019-03-28'))      "
   ]
  },
  {
   "cell_type": "code",
   "execution_count": null,
   "metadata": {},
   "outputs": [],
   "source": [
    "stream = ['2018-04-02', '2018-02-29', '2018-19-02'] #задание 3 \n",
    "def correct(stream):\n",
    "    for i in stream:\n",
    "        try:\n",
    "            datetime.strptime(i,'%Y-%m-%d')\n",
    "            print (True)\n",
    "        except:\n",
    "            print (False)\n",
    "correct (stream)"
   ]
  },
  {
   "cell_type": "code",
   "execution_count": null,
   "metadata": {},
   "outputs": [],
   "source": [
    "def vozvrat (): #задание 4 \n",
    "   spisok_dat = []\n",
    "   today = datetime.today()\n",
    "   first_day = 0\n",
    "   spisok_vozvr = first_day\n",
    "   if today is not first_day:\n",
    "       first_day = datetime(datetime.today().year, datetime.today().month, 1)\n",
    "   else:\n",
    "        first_day = datetime(datetime.today().year, datetime.today().month, 1) + dateutil.relativedelta.relativedelta(months=-1)\n",
    "       for _ in range((today - first_day).days):\n",
    "           spisok_dat.append(spisok_vozvr.strftime('%Y-%m-%d'))\n",
    "           spisok_vozvr += timedelta(days=1)\n",
    "return spisok_dat\n",
    "vozvrat ()"
   ]
  },
  {
   "cell_type": "code",
   "execution_count": null,
   "metadata": {},
   "outputs": [],
   "source": [
    "def tochnaya_data (a): #задание 5 \n",
    "    a = input('Введите запрос') \n",
    "    Today = 'Today'\n",
    "    Last_monday = 'Last_monday'\n",
    "    Last_day = 'Last_day'\n",
    "    if a == Today:\n",
    "            today = datetime.today().strftime('%Y-%m-%d')\n",
    "            print (today)\n",
    "    elif a == Last_monday:\n",
    "            Last_monday = date.today() + relativedelta(weekday=MO(-1))\n",
    "            print (Last_monday)\n",
    "    elif a ==  Last_day:\n",
    "            Last_day = date.today() + relativedelta(day=31)\n",
    "            print(Last_day)\n",
    "tochnaya_data (a)"
   ]
  }
 ],
 "metadata": {
  "kernelspec": {
   "display_name": "Python 3",
   "language": "python",
   "name": "python3"
  },
  "language_info": {
   "codemirror_mode": {
    "name": "ipython",
    "version": 3
   },
   "file_extension": ".py",
   "mimetype": "text/x-python",
   "name": "python",
   "nbconvert_exporter": "python",
   "pygments_lexer": "ipython3",
   "version": "3.7.1"
  }
 },
 "nbformat": 4,
 "nbformat_minor": 2
}
