{
 "cells": [
  {
   "cell_type": "code",
   "execution_count": 1,
   "metadata": {},
   "outputs": [
    {
     "name": "stdout",
     "output_type": "stream",
     "text": [
      "True\n",
      "False\n",
      "True\n",
      "False\n",
      "False\n",
      "False\n",
      "True\n",
      "True\n",
      "True\n",
      "True\n"
     ]
    }
   ],
   "source": [
    "geo_logs = [ #Задание 1, получилось выдать только булев тип данных\n",
    "\n",
    "    {'visit1': ['Москва', 'Россия']},\n",
    "    \n",
    "    {'visit2': ['Дели', 'Индия']},\n",
    "    \n",
    "    {'visit3': ['Владимир', 'Россия']},\n",
    "    \n",
    "    {'visit4': ['Лиссабон', 'Португалия']},\n",
    "    \n",
    "    {'visit5': ['Париж', 'Франция']},\n",
    "    \n",
    "    {'visit6': ['Лиссабон', 'Португалия']},\n",
    "    \n",
    "    {'visit7': ['Тула', 'Россия']},\n",
    "    \n",
    "    {'visit8': ['Тула', 'Россия']},\n",
    "    \n",
    "    {'visit9': ['Курск', 'Россия']},\n",
    "    \n",
    "    {'visit10': ['Архангельск', 'Россия']},\n",
    "    \n",
    "]\n",
    "for visit in geo_logs:\n",
    "    print(list(visit.values())[0][1]== 'Россия')"
   ]
  },
  {
   "cell_type": "code",
   "execution_count": 2,
   "metadata": {},
   "outputs": [
    {
     "name": "stdout",
     "output_type": "stream",
     "text": [
      "{98, 35, 213, 54, 119, 15}\n"
     ]
    }
   ],
   "source": [
    "ids = {'user1': [213, 213, 213, 15, 213], 'user2': [54, 54, 119, 119, 119], 'user3': [213, 98, 98, 35]} #Задание 2 \n",
    "[posl.update(set(x) if isinstance(x, (list, set)) else [x])\n",
    " for x in ids.values()]\n",
    "print(posl)"
   ]
  },
  {
   "cell_type": "code",
   "execution_count": 3,
   "metadata": {},
   "outputs": [
    {
     "name": "stdout",
     "output_type": "stream",
     "text": [
      "42.857142857142854 57.14285714285714\n"
     ]
    }
   ],
   "source": [
    "queries = [ #Задание 3 \n",
    "\n",
    "    'смотреть сериалы онлайн',\n",
    "    \n",
    "    'новости спорта',\n",
    "    \n",
    "    'афиша кино',\n",
    "    \n",
    "    'курс доллара',\n",
    "    \n",
    "    'сериалы этим летом',\n",
    "    \n",
    "    'курс по питону',\n",
    "    \n",
    "    'сериалы про спорт',\n",
    "]\n",
    "[len (x.split (',') [0].split (' ')) for x in queries]\n",
    "a = [len (x.split (',') [0].split (' ')) for x in queries]\n",
    "b =  a.count (2) #количество запросов из двух слов\n",
    "c = a.count (3) #количество запросов из трех слов\n",
    "b1 = (b/(b+c))*100 #процентное соотношение запросов из 2 слов\n",
    "c1 = (c/(b+c))*100 #процентное соотношение запросов из 2 слов\n",
    "print (b1, c1)"
   ]
  },
  {
   "cell_type": "code",
   "execution_count": null,
   "metadata": {},
   "outputs": [],
   "source": []
  }
 ],
 "metadata": {
  "kernelspec": {
   "display_name": "Python 3",
   "language": "python",
   "name": "python3"
  },
  "language_info": {
   "codemirror_mode": {
    "name": "ipython",
    "version": 3
   },
   "file_extension": ".py",
   "mimetype": "text/x-python",
   "name": "python",
   "nbconvert_exporter": "python",
   "pygments_lexer": "ipython3",
   "version": "3.7.1"
  }
 },
 "nbformat": 4,
 "nbformat_minor": 2
}
